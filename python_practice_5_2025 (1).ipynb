{
 "nbformat": 4,
 "nbformat_minor": 0,
 "metadata": {
  "colab": {
   "provenance": []
  },
  "kernelspec": {
   "name": "python3",
   "display_name": "Python 3"
  },
  "language_info": {
   "name": "python"
  }
 },
 "cells": [
  {
   "cell_type": "markdown",
   "source": [
    "# I. OOP"
   ],
   "metadata": {
    "id": "5qV_sehzFCTp"
   }
  },
  {
   "cell_type": "markdown",
   "source": [
    "1. (6б). Створіть клас Building, додайте три атрибути, один з яких має значення за замовчуванням та два методи на свій розсуд."
   ],
   "metadata": {
    "id": "tx_U_hOALyfg"
   }
  },
  {
   "cell_type": "code",
   "source": [
    "class Building:\n",
    "  def __init__(self, address, number, floors=5, ):\n",
    "    self.floors = floors\n",
    "    self.address = address\n",
    "    self.number = number\n",
    "\n",
    "  def __str__(self):\n",
    "     return f'The building address is {self.address}, number {self.number}'\n",
    "  def is_skyscraper(self):\n",
    "    return self.floors>40"
   ],
   "metadata": {
    "id": "-Vf895KaL88N"
   },
   "execution_count": null,
   "outputs": []
  },
  {
   "cell_type": "markdown",
   "source": [
    "2. (2б). Створіть два обʼєкти цього класу, де один з обʼєктів створюється із дефолтним значенням атрибуту. На одному обʼєкті отримайте значення його атрибуту, а на іншому викличте один з його методів."
   ],
   "metadata": {
    "id": "X_UlOMB0L93w"
   }
  },
  {
   "cell_type": "code",
   "source": [
    "building_1 = Building(\"Sonyachna street\", 74, 50)\n",
    "building_2 = Building(\"Mandalay street\", 305)\n",
    "print(building_1.floors)\n",
    "building_2.__str__()"
   ],
   "metadata": {
    "id": "7gBu0ESOMCpG",
    "colab": {
     "base_uri": "https://localhost:8080/",
     "height": 53
    },
    "outputId": "e59ad73d-a631-4385-e46e-49dffe06d802"
   },
   "execution_count": 8,
   "outputs": [
    {
     "output_type": "stream",
     "name": "stdout",
     "text": [
      "50\n"
     ]
    },
    {
     "output_type": "execute_result",
     "data": {
      "text/plain": [
       "'The building address is Mandalay street, number 305'"
      ],
      "application/vnd.google.colaboratory.intrinsic+json": {
       "type": "string"
      }
     },
     "metadata": {},
     "execution_count": 8
    }
   ]
  },
  {
   "cell_type": "markdown",
   "source": [
    "3. (5б). Створіть клас, де атрибути мають різні рівні доступу. Спробуйте отримати їхні значення та опишіть результати."
   ],
   "metadata": {
    "id": "HoqSCZt1MHn5"
   }
  },
  {
   "cell_type": "code",
   "source": [
    "class MyClass:\n",
    "    def __init__(self, public_value, protected_value, private_value):\n",
    "        self.public_value = public_value\n",
    "        self._protected_value = protected_value\n",
    "        self.__private_value = private_value\n",
    "\n",
    "    def get_private_value(self):\n",
    "        return self.__private_value\n",
    "\n",
    "obj = MyClass(10, 20, 30)\n",
    "\n",
    "print(\"Public value:\", obj.public_value)  #Доступ до публічного атрибута\n",
    "\n",
    "print(\"Protected value:\", obj._protected_value)  #Захищений атрибут доступний, але не рекомендується змінювати зовні\n",
    "\n",
    "#Спроба доступу до приватного атрибута\n",
    "try:\n",
    "    print(\"Private value:\", obj.__private_value)  #Викликає помилку, приватний атрибут недоступний\n",
    "except AttributeError as e:\n",
    "    print(\"Error:\", e)\n",
    "\n",
    "#Доступ до приватного атрибута через метод\n",
    "print(\"Private value via method:\", obj.get_private_value())"
   ],
   "metadata": {
    "id": "r9b3vJxBMSPV"
   },
   "execution_count": null,
   "outputs": []
  },
  {
   "cell_type": "markdown",
   "source": [
    "4. (7б). Як ви розумієте термін self? Для чого використовується метод __init __?"
   ],
   "metadata": {
    "id": "5op2m2vgMSkZ"
   }
  },
  {
   "cell_type": "markdown",
   "source": [
    "self це посилання на клас. __init__ це конструктор класу, який ініціалізує його атрибути"
   ],
   "metadata": {
    "id": "DyiPqNRvMasx"
   }
  },
  {
   "cell_type": "markdown",
   "source": [
    "5. (9б). Створіть клас 3D-фігура без атрибутів, з методом get_volume для отримання об'єму фігури, що повертає 0 та __add __, який приймає self та other в якості аргументів, а повертає суму об'ємів 3d-фігур self та other."
   ],
   "metadata": {
    "id": "-6X8EGfjMd2y"
   }
  },
  {
   "cell_type": "code",
   "source": [
    "class figure_3D:\n",
    "  def get_volume(self):\n",
    "        return 0\n",
    "\n",
    "  def __add__(self, other):\n",
    "        return self.get_volume() + other.get_volume()"
   ],
   "metadata": {
    "id": "4rvO_wYUMaEr"
   },
   "execution_count": null,
   "outputs": []
  },
  {
   "cell_type": "markdown",
   "source": [
    "6. (11б). Створіть 2 дочірніх класи від 3d-фігура: Циліндр та Куб, які мають атрибути, необхідні для розрахунку об'єму. Визначте метод get_volume в кожному з них так, щоби вони розраховували об'єм у залежності від формули для кожного типу фігури. Створіть обʼєкт класу Циліндр та обʼєкт класу Куб. Виконайте операцію суми за допомогою оператора + між ними, аби знайти сумарний об'єм."
   ],
   "metadata": {
    "id": "SFcKnnv5Mo_z"
   }
  },
  {
   "cell_type": "code",
   "source": [
    "class Cylinder(figure_3D):\n",
    "    def __init__(self, radius, height):\n",
    "        self.radius = radius\n",
    "        self.height = height\n",
    "\n",
    "    def get_volume(self):\n",
    "        return 3.14*self.radius**2*self.height\n",
    "\n",
    "\n",
    "class Cube(figure_3D):\n",
    "    def __init__(self, side):\n",
    "        self.side = side\n",
    "\n",
    "    def get_volume(self):\n",
    "        return self.side**3\n",
    "\n",
    "cylinder = Cylinder(3, 5)\n",
    "cube = Cube(4)\n",
    "sum_volume = cylinder + cube\n",
    "print(\"Total Volume:\", sum_volume)"
   ],
   "metadata": {
    "id": "H3GVNr69Muf3",
    "colab": {
     "base_uri": "https://localhost:8080/"
    },
    "outputId": "3c3426b4-0d4a-4ef6-ba09-0097a2243d4f"
   },
   "execution_count": 12,
   "outputs": [
    {
     "output_type": "stream",
     "name": "stdout",
     "text": [
      "Total Volume: 205.3\n"
     ]
    }
   ]
  },
  {
   "cell_type": "markdown",
   "source": [
    "7. (3б). Продемонструйте різницю між isinstance та issubclass."
   ],
   "metadata": {
    "id": "HCvR206YMvLK"
   }
  },
  {
   "cell_type": "code",
   "source": [
    "#Перевіряє, чи є об'єкт конкретним екземпляром класу або його підкласу.\n",
    "print(isinstance(cylinder, Cylinder))\n",
    "print(isinstance(cube, Cylinder))\n",
    "#Перевіряє, чи є клас підкласом іншого класу.\n",
    "print(issubclass(Cube, figure_3D))\n",
    "print(issubclass(Cylinder, Cube))"
   ],
   "metadata": {
    "id": "L_V1bBvDM0GN",
    "colab": {
     "base_uri": "https://localhost:8080/"
    },
    "outputId": "6bb3de15-112b-449f-aea8-d1d49748a049"
   },
   "execution_count": 18,
   "outputs": [
    {
     "output_type": "stream",
     "name": "stdout",
     "text": [
      "True\n",
      "False\n",
      "True\n",
      "False\n"
     ]
    }
   ]
  },
  {
   "cell_type": "markdown",
   "source": [
    "8. (13б). Створіть клас EWallet з приватними атрибутами balance та id. Реалізуйте методи поповнення та зняття коштів, забезпечивши належну інкапсуляцію. Підказка: використовуйте декоратори property та setter."
   ],
   "metadata": {
    "id": "jjsaBZ-iM0Qq"
   }
  },
  {
   "cell_type": "code",
   "source": [
    "class EWallet:\n",
    "    def __init__(self, wallet_id, initial_balance=0):\n",
    "        self.__id = wallet_id\n",
    "        self.__balance = initial_balance\n",
    "\n",
    "    @property\n",
    "    def balance(self):\n",
    "        return self.__balance\n",
    "\n",
    "    @property\n",
    "    def id(self):\n",
    "        return self.__id\n",
    "\n",
    "    @balance.setter\n",
    "    def balance(self, amount):\n",
    "        if amount < 0:\n",
    "            raise ValueError(\"Balance cannot be negative.\")\n",
    "        self.__balance = amount\n",
    "\n",
    "    def deposit(self, amount):\n",
    "        if amount <= 0:\n",
    "            raise ValueError(\"Deposit amount must be positive.\")\n",
    "        self.balance += amount\n",
    "        print(f\"Deposited ${amount}. New balance: ${self.balance}\")\n",
    "\n",
    "    def withdraw(self, amount):\n",
    "        if amount <= 0:\n",
    "            raise ValueError(\"Withdrawal amount must be positive.\")\n",
    "        if amount > self.balance:\n",
    "            raise ValueError(\"Insufficient funds.\")\n",
    "        self.balance -= amount\n",
    "        print(f\"Withdrew ${amount}. New balance: ${self.balance}\")\n",
    "\n",
    "wallet = EWallet(wallet_id=\"123456\", initial_balance=100)\n",
    "print(f\"Wallet ID: {wallet.id}\")\n",
    "print(f\"Initial Balance: ${wallet.balance}\")"
   ],
   "metadata": {
    "id": "xCvZ7lh8M7YA"
   },
   "execution_count": null,
   "outputs": []
  },
  {
   "cell_type": "markdown",
   "source": [
    "9. (11б). Створіть клас ShoppingCart, який містить список об'єктів типу Item. Реалізуйте методи для додавання айтемів, їх видалення та відображення списку айтемів."
   ],
   "metadata": {
    "id": "tIzL2SJTM8ft"
   }
  },
  {
   "cell_type": "code",
   "source": [
    "class Item:\n",
    "    def __init__(self, name, price):\n",
    "        self.name = name\n",
    "        self.price = price\n",
    "\n",
    "    def __str__(self):\n",
    "        return f\"Item(name: {self.name}, price: {self.price})\"\n",
    "\n",
    "\n",
    "class ShoppingCart:\n",
    "    def __init__(self):\n",
    "        self.items = []\n",
    "\n",
    "    def add_item(self, item):\n",
    "        self.items.append(item)\n",
    "\n",
    "    def remove_item(self, item_name):\n",
    "        self.items = [item for item in self.items if item.name != item_name]\n",
    "\n",
    "    def display_items(self):\n",
    "        if not self.items:\n",
    "            print(\"The shopping cart is empty.\")\n",
    "        else:\n",
    "            for item in self.items:\n",
    "                print(f\"{item.name}: ${item.price}\")\n",
    "\n",
    "cart = ShoppingCart()\n",
    "item1 = Item(\"apple\", 10)\n",
    "item2 = Item(\"banana\", 5)\n",
    "item3 = Item(\"strawberry\", 8)\n",
    "\n",
    "cart.add_item(item1)\n",
    "cart.add_item(item2)\n",
    "cart.add_item(item3)\n",
    "\n",
    "cart.display_items()\n",
    "\n",
    "cart.remove_item(\"apple\")\n",
    "cart.display_items()"
   ],
   "metadata": {
    "id": "HWxfJKLtNAUZ",
    "colab": {
     "base_uri": "https://localhost:8080/"
    },
    "outputId": "eb829e39-ac31-4c22-acac-9efd919c4fba"
   },
   "execution_count": 17,
   "outputs": [
    {
     "output_type": "stream",
     "name": "stdout",
     "text": [
      "apple: $10\n",
      "banana: $5\n",
      "strawberry: $8\n",
      "banana: $5\n",
      "strawberry: $8\n"
     ]
    }
   ]
  },
  {
   "cell_type": "markdown",
   "source": [
    "10. (13б). Створіть клас Vehicle з атрибутами brand (manufacturer) та production_age. Створіть ще один клас Engine з такими атрибутами, як type (ex. petrol) та size (volume, litres). Створіть клас Car, який успадковує обидва класи Vehicle та Engine. Продемонструйте використання множинної спадковості, створивши обʼєкт класу Car та отримавши mro для цього класу."
   ],
   "metadata": {
    "id": "lmV8pAwwNIqu"
   }
  },
  {
   "cell_type": "code",
   "source": [
    "class Vehicle:\n",
    "  def __init__(self, brand, production_age):\n",
    "    self.brand = brand\n",
    "    self.production_age = production_age\n",
    "\n",
    "class Engine:\n",
    "  def __init__(self, engine_type, size):\n",
    "    self.engine_type = engine_type\n",
    "    self.size = size\n",
    "\n",
    "class Car(Vehicle, Engine):\n",
    "  def __init__(self, brand, production_age, engine_type, size):\n",
    "        Vehicle.__init__(self, brand, production_age)\n",
    "        Engine.__init__(self, engine_type, size)\n",
    "\n",
    "car = Car(\"BMW\", 5, \"petrol\", 2.0)\n",
    "print(Car.__mro__)"
   ],
   "metadata": {
    "id": "R49grKlWNPeN",
    "colab": {
     "base_uri": "https://localhost:8080/"
    },
    "outputId": "fd8a0794-f5a0-41af-b879-fe9a6f013c27"
   },
   "execution_count": 13,
   "outputs": [
    {
     "output_type": "stream",
     "name": "stdout",
     "text": [
      "(<class '__main__.Car'>, <class '__main__.Vehicle'>, <class '__main__.Engine'>, <class 'object'>)\n"
     ]
    }
   ]
  },
  {
   "cell_type": "markdown",
   "source": [
    "# II. Iterator"
   ],
   "metadata": {
    "id": "dIJyUiNBFG8G"
   }
  },
  {
   "cell_type": "markdown",
   "source": [
    "11. (4б). Визначте рядок(str) з 4ма різними за значенням символами. Створіть ітератор на основі цього рядка. Викличте 5 разів функцію next на ітераторі, 4ри перших з них огорніть у ф-цію print()."
   ],
   "metadata": {
    "id": "13vsm0NyKIzL"
   }
  },
  {
   "cell_type": "code",
   "source": [
    "str1 = \"12ab\"\n",
    "\n",
    "it = iter(str1)\n",
    "\n",
    "print(next(it))\n",
    "print(next(it))\n",
    "print(next(it))\n",
    "print(next(it))\n",
    "\n",
    "#next(it)"
   ],
   "metadata": {
    "id": "81ntabAkKuz-",
    "colab": {
     "base_uri": "https://localhost:8080/",
     "height": 245
    },
    "outputId": "e24ec4ed-e32d-4dc3-f611-b7624361acc4"
   },
   "execution_count": 14,
   "outputs": [
    {
     "output_type": "stream",
     "name": "stdout",
     "text": [
      "1\n",
      "2\n",
      "a\n",
      "b\n"
     ]
    },
    {
     "output_type": "error",
     "ename": "StopIteration",
     "evalue": "",
     "traceback": [
      "\u001B[0;31m---------------------------------------------------------------------------\u001B[0m",
      "\u001B[0;31mStopIteration\u001B[0m                             Traceback (most recent call last)",
      "\u001B[0;32m<ipython-input-14-2eb8ea64a8f6>\u001B[0m in \u001B[0;36m<cell line: 0>\u001B[0;34m()\u001B[0m\n\u001B[1;32m      8\u001B[0m \u001B[0mprint\u001B[0m\u001B[0;34m(\u001B[0m\u001B[0mnext\u001B[0m\u001B[0;34m(\u001B[0m\u001B[0mit\u001B[0m\u001B[0;34m)\u001B[0m\u001B[0;34m)\u001B[0m\u001B[0;34m\u001B[0m\u001B[0;34m\u001B[0m\u001B[0m\n\u001B[1;32m      9\u001B[0m \u001B[0;34m\u001B[0m\u001B[0m\n\u001B[0;32m---> 10\u001B[0;31m \u001B[0mnext\u001B[0m\u001B[0;34m(\u001B[0m\u001B[0mit\u001B[0m\u001B[0;34m)\u001B[0m\u001B[0;34m\u001B[0m\u001B[0;34m\u001B[0m\u001B[0m\n\u001B[0m",
      "\u001B[0;31mStopIteration\u001B[0m: "
     ]
    }
   ]
  },
  {
   "cell_type": "markdown",
   "source": [
    "А що якщо викликати цю ж функцію на рядку?"
   ],
   "metadata": {
    "id": "aekWHGXOLRsO"
   }
  },
  {
   "cell_type": "code",
   "source": "#next(str1) name 'str1' is not defined",
   "metadata": {
    "id": "mxATGsErLV1i",
    "colab": {
     "base_uri": "https://localhost:8080/",
     "height": 141
    },
    "outputId": "210299f2-ee6d-49fa-b8c4-c238fcf45842"
   },
   "execution_count": 15,
   "outputs": [
    {
     "output_type": "error",
     "ename": "NameError",
     "evalue": "name 'str1' is not defined",
     "traceback": [
      "\u001B[0;31m---------------------------------------------------------------------------\u001B[0m",
      "\u001B[0;31mNameError\u001B[0m                                 Traceback (most recent call last)",
      "\u001B[0;32m<ipython-input-15-dbc6a33f5b05>\u001B[0m in \u001B[0;36m<cell line: 0>\u001B[0;34m()\u001B[0m\n\u001B[0;32m----> 1\u001B[0;31m \u001B[0mnext\u001B[0m\u001B[0;34m(\u001B[0m\u001B[0mstr1\u001B[0m\u001B[0;34m)\u001B[0m\u001B[0;34m\u001B[0m\u001B[0;34m\u001B[0m\u001B[0m\n\u001B[0m",
      "\u001B[0;31mNameError\u001B[0m: name 'str1' is not defined"
     ]
    }
   ]
  },
  {
   "cell_type": "markdown",
   "source": [
    " 12. (5б). Опишіть своїми словами в одному реченні, як ви розумієте різницю між ітерабельними обʼєктами та ітераторами (можна на прикладі)."
   ],
   "metadata": {
    "id": "XwtMEopwJ4pH"
   }
  },
  {
   "cell_type": "markdown",
   "source": [
    "ітерабельні об'єкти можна перебирати за допомогою ітератора, а ітератори - це об'єкти яки здійснюють ітерацію по елементам"
   ],
   "metadata": {
    "id": "-sHrODc3KFn8"
   }
  },
  {
   "cell_type": "markdown",
   "source": [
    "13. (11б). Створіть клас, що має визначений Iterator Protocol та при кожному виклику next повертає назву дня тижня, поки вони не вичерпаються. Зверніть увагу, що порядок має значення."
   ],
   "metadata": {
    "id": "E9qJWmNbK8Gl"
   }
  },
  {
   "cell_type": "code",
   "source": [
    "class WeekdaysIterator:\n",
    "    def __init__(self):\n",
    "        self.days_of_week = [\"Monday\", \"Tuesday\", \"Wednesday\", \"Thursday\", \"Friday\", \"Saturday\", \"Sunday\"]\n",
    "        self.index = 0\n",
    "\n",
    "    def __iter__(self):\n",
    "        return self\n",
    "\n",
    "    def __next__(self):\n",
    "        if self.index < len(self.days_of_week):\n",
    "            day = self.days_of_week[self.index]\n",
    "            self.index += 1\n",
    "            return day\n",
    "        else:\n",
    "            raise StopIteration\n",
    "\n",
    "iterator = WeekdaysIterator()\n",
    "for day in iterator:\n",
    "    print(day)"
   ],
   "metadata": {
    "id": "cqx-g_RsLo6I",
    "colab": {
     "base_uri": "https://localhost:8080/"
    },
    "outputId": "48f711e8-18a3-4a16-ee3e-c76526802f51"
   },
   "execution_count": 16,
   "outputs": [
    {
     "output_type": "stream",
     "name": "stdout",
     "text": [
      "Monday\n",
      "Tuesday\n",
      "Wednesday\n",
      "Thursday\n",
      "Friday\n",
      "Saturday\n",
      "Sunday\n"
     ]
    }
   ]
  },
  {
   "cell_type": "markdown",
   "source": [
    "# Вітаю! Ви велика(ий) молодець, що впоралась(вся). Похваліть себе та побалуйте чимось приємним. Я Вами пишаюся."
   ],
   "metadata": {
    "id": "Z3E3S_s1Fv7-"
   }
  }
 ]
}
