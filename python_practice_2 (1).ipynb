{
 "nbformat": 4,
 "nbformat_minor": 0,
 "metadata": {
  "colab": {
   "provenance": []
  },
  "kernelspec": {
   "name": "python3",
   "display_name": "Python 3 (ipykernel)",
   "language": "python"
  },
  "language_info": {
   "name": "python"
  }
 },
 "cells": [
  {
   "cell_type": "markdown",
   "source": [
    "# I. Змінні та памʼять."
   ],
   "metadata": {
    "id": "p9wwt0LZzNvn"
   }
  },
  {
   "cell_type": "markdown",
   "source": [
    "1. Створити змінні, що посилаються на два цілих числа, що однакові за значенням, де значення належить проміжку від -5 до 256. Перевірте, чи будуть ці змінні рівні тільки за значенням або ж ще будуть посилатися на один і той самий обʼєкт в памʼяті? Наведіть код та дайте текстову відповідь нижче."
   ],
   "metadata": {
    "id": "HTJrrm95xSV9"
   }
  },
  {
   "cell_type": "code",
   "execution_count": 1,
   "metadata": {
    "id": "TATni2vzayjG",
    "colab": {
     "base_uri": "https://localhost:8080/"
    },
    "outputId": "4366eb58-6ee5-4e9a-a0ea-87ce9720ff25"
   },
   "outputs": [
    {
     "output_type": "stream",
     "name": "stdout",
     "text": [
      "10750984 10750984\n"
     ]
    }
   ],
   "source": [
    "int_1 = 5\n",
    "int_2 = 5\n",
    "print(id(int_1), id(int_2))"
   ]
  },
  {
   "cell_type": "markdown",
   "source": [
    "Посилання є на один і той самий об'єкт"
   ],
   "metadata": {
    "id": "zfRG_o3WbRdg"
   }
  },
  {
   "cell_type": "markdown",
   "source": [
    "2. За допомогою якої функції можна перевірити належність змінної до вказаного типу даних (напр. чи змінна True посилається на значення булевого та цілочисленого типу)?"
   ],
   "metadata": {
    "id": "ISORzt6M3vAt"
   }
  },
  {
   "cell_type": "code",
   "source": [
    "bool_1 = True\n",
    "print(type(bool_1))"
   ],
   "metadata": {
    "id": "9vL9CFaMbfyo",
    "colab": {
     "base_uri": "https://localhost:8080/"
    },
    "outputId": "67936b18-5c4c-4a01-f183-7631bd59dfb5"
   },
   "execution_count": 2,
   "outputs": [
    {
     "output_type": "stream",
     "name": "stdout",
     "text": [
      "<class 'bool'>\n"
     ]
    }
   ]
  },
  {
   "cell_type": "markdown",
   "source": [
    "# II. Цілі числа та числа з рухомою комою"
   ],
   "metadata": {
    "id": "tRxugKAxwYLw"
   }
  },
  {
   "cell_type": "markdown",
   "source": [
    "3. Створити дві змінні, що посилаються на будь-які ціле число та число з рухомою комою та продемонструвати такі арифметичні операції: додавання, віднімання, ділення, множення, ділення без залишку, ділення по модулю, приведення до ступеню. Всі результати операцій вивести на екран."
   ],
   "metadata": {
    "id": "NLHkgd5Gybc8"
   }
  },
  {
   "cell_type": "code",
   "source": [
    "int_test = 123\n",
    "float_test = 8.5\n",
    "print(int_test + float_test)\n",
    "print(int_test - float_test)\n",
    "print(int_test * float_test)\n",
    "print(int_test / float_test)\n",
    "print(int_test % float_test)\n",
    "print(int_test // float_test)\n",
    "print(pow(int_test, float_test))"
   ],
   "metadata": {
    "id": "nb8u_3pjb2cA",
    "colab": {
     "base_uri": "https://localhost:8080/"
    },
    "outputId": "f673a368-5025-4f28-dacc-70e943feec4d"
   },
   "execution_count": 6,
   "outputs": [
    {
     "output_type": "stream",
     "name": "stdout",
     "text": [
      "131.5\n",
      "114.5\n",
      "1045.5\n",
      "14.470588235294118\n",
      "4.0\n",
      "14.0\n",
      "5.810231642943796e+17\n"
     ]
    }
   ]
  },
  {
   "cell_type": "markdown",
   "source": [
    "4. Використовуючи змінні з вправи 3, продемонструйте механізм явного перетворення типів, де числа з рухомою комою перетворюються на цілі числа. Також визначте змінну, що посилається на значення булевого типу і спробуйте явно привести її до цілого числа."
   ],
   "metadata": {
    "id": "1kBClKgPzZnC"
   }
  },
  {
   "cell_type": "code",
   "source": [
    "print(float_test, \"-\", int(float_test))\n",
    "bool_test = True\n",
    "print(bool_test, \"-\", int(bool_test))\n"
   ],
   "metadata": {
    "id": "TbqJbkeUcKsD",
    "colab": {
     "base_uri": "https://localhost:8080/"
    },
    "outputId": "fddf1ee4-8ddb-44b4-bb9f-b6631380f276"
   },
   "execution_count": 11,
   "outputs": [
    {
     "output_type": "stream",
     "name": "stdout",
     "text": [
      "8.5 - 8\n",
      "True - 1\n"
     ]
    }
   ]
  },
  {
   "cell_type": "markdown",
   "source": [
    "# IІІ. Рядки (String)."
   ],
   "metadata": {
    "id": "EVJ7AflwxrZi"
   }
  },
  {
   "cell_type": "markdown",
   "source": [
    "5. Створити пустий рядок двома різними способами."
   ],
   "metadata": {
    "id": "_s5ECzz9zE61"
   }
  },
  {
   "cell_type": "code",
   "source": [
    "str1 = \"\"\n",
    "str2 = ''"
   ],
   "metadata": {
    "id": "fkZJHu9Scvc-",
    "colab": {
     "base_uri": "https://localhost:8080/"
    },
    "outputId": "227257eb-6d12-4621-b906-a442f12935e3"
   },
   "execution_count": 12,
   "outputs": [
    {
     "output_type": "stream",
     "name": "stdout",
     "text": [
      "\n"
     ]
    }
   ]
  },
  {
   "cell_type": "markdown",
   "source": [
    "6. Створити рядок з апострофом. Зробити його сирим. Вивести обидва рядка на екран."
   ],
   "metadata": {
    "id": "4Bdn9J3MzLf_"
   }
  },
  {
   "cell_type": "code",
   "source": [
    "str_1 = \"it's\"\n",
    "str_2 = r\"it's\"\n",
    "print(str_1)\n",
    "print(str_2)"
   ],
   "metadata": {
    "id": "ivji_hsmc0GH",
    "colab": {
     "base_uri": "https://localhost:8080/"
    },
    "outputId": "693f5e3d-a15f-440b-fbe1-24f39b660b0c"
   },
   "execution_count": 13,
   "outputs": [
    {
     "output_type": "stream",
     "name": "stdout",
     "text": [
      "it's\n",
      "it's\n"
     ]
    }
   ]
  },
  {
   "cell_type": "markdown",
   "source": [
    "7. Створити змінну, що буде посилатися на Ваше прізвище латинкою. Створити форматований рядок, який буде мати вигляд \"My surname is ______\", де на місці нижніх підкреслень буде Ваше прізвище зі змінної."
   ],
   "metadata": {
    "id": "bg_d8wM4z8dS"
   }
  },
  {
   "cell_type": "code",
   "source": [
    "surname = \"Sydorenko\"\n",
    "formatted = f\"My surname is {surname}\"\n",
    "print(formatted)"
   ],
   "metadata": {
    "id": "kuxFgpWndACq",
    "colab": {
     "base_uri": "https://localhost:8080/"
    },
    "outputId": "2a1dc9af-73b4-4767-ce1c-c8753322d291"
   },
   "execution_count": 14,
   "outputs": [
    {
     "output_type": "stream",
     "name": "stdout",
     "text": [
      "My surname is Sydorenko\n"
     ]
    }
   ]
  },
  {
   "cell_type": "markdown",
   "source": [
    "8. Маючи рядок \"My dog is crazy.\" перетворити його на список [\"my\", \"dog\", \"is\", \"crazy\"]"
   ],
   "metadata": {
    "id": "1Nc6RqvQ0hxU"
   }
  },
  {
   "cell_type": "code",
   "source": [
    "old = \"My dog is crazy.\"\n",
    "new = old.lower().split()\n",
    "print(new)"
   ],
   "metadata": {
    "id": "w1Ya4RqedUhw",
    "colab": {
     "base_uri": "https://localhost:8080/"
    },
    "outputId": "ec594f3b-eae1-4de3-d27f-17fbc854bc5b",
    "ExecuteTime": {
     "end_time": "2025-04-19T15:06:03.181136Z",
     "start_time": "2025-04-19T15:06:03.155468Z"
    }
   },
   "outputs": [
    {
     "name": "stdout",
     "output_type": "stream",
     "text": [
      "['my', 'dog', 'is', 'crazy.']\n"
     ]
    }
   ],
   "execution_count": 1
  },
  {
   "cell_type": "markdown",
   "source": [
    "# IV. Робота зі списками."
   ],
   "metadata": {
    "id": "GYVqN9uP1D4n"
   }
  },
  {
   "cell_type": "markdown",
   "source": [
    "9. Створити список двома різними за синтаксисом способами. За допомогою вбудованої функції обчисліть довжину одного з них."
   ],
   "metadata": {
    "id": "7-DeDunw2sO-"
   }
  },
  {
   "cell_type": "code",
   "source": [
    "list_1 = [1, 2, 3, 4]\n",
    "list_2 = list((1, 2, 3, 4, 5))\n",
    "print(list_1.)"
   ],
   "metadata": {
    "id": "zxg06Uuxdyoh"
   },
   "execution_count": null,
   "outputs": []
  },
  {
   "cell_type": "markdown",
   "source": [
    "10. Створіть два списка та за допомогою спеціального методу додайте другий з них в якості останнього елемента першого."
   ],
   "metadata": {
    "id": "8vmGUTjL22gI"
   }
  },
  {
   "cell_type": "code",
   "source": [
    "list1 = [1, 2, 3]\n",
    "list2 = [4, 5, 6]\n",
    "list1.append(list2)\n",
    "print(list1)"
   ],
   "metadata": {
    "id": "uHtjWYw7d7hm",
    "colab": {
     "base_uri": "https://localhost:8080/"
    },
    "outputId": "3555690e-3394-4463-cc83-0c2154122553"
   },
   "execution_count": 3,
   "outputs": [
    {
     "output_type": "stream",
     "name": "stdout",
     "text": [
      "[1, 2, 3, [4, 5, 6]]\n"
     ]
    }
   ]
  },
  {
   "cell_type": "markdown",
   "source": [
    "11. Створіть список, де елементами цього списку також є списки. Отримай перший елемент з останнього рядка та виведи значення на екран."
   ],
   "metadata": {
    "id": "JC3BkD-67_--"
   }
  },
  {
   "cell_type": "code",
   "source": [
    "main_list = [[1, 2, 3], [4, 5, 6],[7, 8, 9]]\n",
    "print(main_list[2][0])"
   ],
   "metadata": {
    "id": "Kz2jZHsGeLlz",
    "colab": {
     "base_uri": "https://localhost:8080/"
    },
    "outputId": "b1c3a2bc-6b48-4afd-ab61-08f8d8257ce4"
   },
   "execution_count": 4,
   "outputs": [
    {
     "output_type": "stream",
     "name": "stdout",
     "text": [
      "7\n"
     ]
    }
   ]
  },
  {
   "cell_type": "markdown",
   "source": [
    "12. Створіть список з десяти елементів різного типу. Отримайте всі елементи, окрім двох перших та двох останніх та збережіть їх в новій змінній."
   ],
   "metadata": {
    "id": "JA47PKTv8zFK"
   }
  },
  {
   "cell_type": "code",
   "source": [
    "my_list = [\"hello world\", 1, True, None, [1, 2, 3], 5.78, {1:\"a\"}, 99, False, 9.123]\n",
    "new_list = my_list[2:-2]\n",
    "print(new_list)"
   ],
   "metadata": {
    "id": "_rHdUR-ueP4-",
    "colab": {
     "base_uri": "https://localhost:8080/"
    },
    "outputId": "bdc3fd64-cbe2-4186-d996-a3645919ac9d"
   },
   "execution_count": 5,
   "outputs": [
    {
     "output_type": "stream",
     "name": "stdout",
     "text": [
      "[True, None, [1, 2, 3], 5.78, {1: 'a'}, 99]\n"
     ]
    }
   ]
  },
  {
   "cell_type": "markdown",
   "source": [
    "# V. Робота з кортежами."
   ],
   "metadata": {
    "id": "pCjR1dJb1Qbi"
   }
  },
  {
   "cell_type": "markdown",
   "source": [
    "14. Створити кортеж з один елементом."
   ],
   "metadata": {
    "id": "fAZCxAX06R_k"
   }
  },
  {
   "cell_type": "code",
   "source": [
    "main_tuple = (2,)"
   ],
   "metadata": {
    "id": "H7d82WkQev3e",
    "colab": {
     "base_uri": "https://localhost:8080/"
    },
    "outputId": "e76c8e78-7ca2-41e0-f4e0-b957088e8be3"
   },
   "execution_count": 6,
   "outputs": [
    {
     "output_type": "stream",
     "name": "stdout",
     "text": [
      "(2,)\n"
     ]
    }
   ]
  },
  {
   "cell_type": "markdown",
   "source": [
    "15. Порівняйте список та кортеж. Назвіть схожості та відмінності, випадки використання."
   ],
   "metadata": {
    "id": "8LCtYcmI6w1M"
   }
  },
  {
   "cell_type": "markdown",
   "source": [
    "Кортежі використовуються для однотипних елементів, а списки ні. Списки змінні, а кортежі не змінні. У списках використовуються квадратні дужки, а у кортежах круглі та кома."
   ],
   "metadata": {
    "id": "fUsN1Hnue0C6"
   }
  },
  {
   "cell_type": "markdown",
   "source": [
    "16. Створіть кортеж з 11ти елементів чисел з рухомою комою та отримайте кожен парний за індексом елемент в зворотньому порядку. Наприклад, маючи (1.2, 2.3, 3.3, 4.3, 5.3, 6.3, 7.3, 8.3, 9.3, 0.3), отримати (0.3, 8.3, 6.3, 4.3, 2.3). Результат збережіть в нову змінну та виведіть на екран."
   ],
   "metadata": {
    "id": "m0xrwFijAmDD"
   }
  },
  {
   "cell_type": "code",
   "source": [
    "numbers = (1.1, 2.2, 3.3, 4.4, 5.5, 6.6, 7.7, 8.8, 9.9, 10.1, 11.11)\n",
    "even_index_reversed = numbers[::-1][::2]\n",
    "print(even_index_reversed)"
   ],
   "metadata": {
    "id": "p-5DAH6XfAGA"
   },
   "outputs": [
    {
     "name": "stdout",
     "output_type": "stream",
     "text": [
      "(11.11, 9.9, 7.7, 5.5, 3.3, 1.1)\n"
     ]
    }
   ],
   "execution_count": 2
  },
  {
   "cell_type": "markdown",
   "source": [
    "# VI. Множини (Set)."
   ],
   "metadata": {
    "id": "rW_I9dt3x6cW"
   }
  },
  {
   "cell_type": "markdown",
   "source": [
    "17. Створити множину без елементів. Після цого за допомогою методу додайте кілька різних елементів до множини. Чи множини є змінним типом даних?"
   ],
   "metadata": {
    "id": "zNjRLHLw1Bgg"
   }
  },
  {
   "cell_type": "code",
   "source": [
    "my_set = set()\n",
    "my_set.add(10)\n",
    "my_set.add(\"hello\")\n",
    "my_set.add(3.14)\n",
    "print(my_set)"
   ],
   "metadata": {
    "id": "KOv7zc2Kfo4N",
    "ExecuteTime": {
     "end_time": "2025-04-19T15:13:14.783101Z",
     "start_time": "2025-04-19T15:13:14.770394Z"
    }
   },
   "outputs": [
    {
     "name": "stdout",
     "output_type": "stream",
     "text": [
      "{10, 3.14, 'hello'}\n"
     ]
    }
   ],
   "execution_count": 4
  },
  {
   "cell_type": "markdown",
   "source": "Так, множини є змінним типом даних, оскільки їхній вміст можна змінювати",
   "metadata": {
    "id": "vxS6dVYiftZQ"
   }
  },
  {
   "cell_type": "markdown",
   "source": [
    "18. Створити множину, маючи список my_list = [1, 1, 2, 67, 67, 8, 9]. Пояснити, чому \"зникли\" деякі елементи."
   ],
   "metadata": {
    "id": "gHpT0Zw_1HEF"
   }
  },
  {
   "cell_type": "code",
   "source": [
    "my_list = [1, 1, 2, 67, 67, 8, 9]\n",
    "my_set = set(my_list)\n",
    "print(my_set)"
   ],
   "metadata": {
    "id": "qCN4uvJ_fxmu",
    "ExecuteTime": {
     "end_time": "2025-04-19T15:13:12.927126Z",
     "start_time": "2025-04-19T15:13:12.908589Z"
    }
   },
   "outputs": [
    {
     "name": "stdout",
     "output_type": "stream",
     "text": [
      "{1, 2, 67, 8, 9}\n"
     ]
    }
   ],
   "execution_count": 3
  },
  {
   "cell_type": "markdown",
   "source": "Деякі елементи зникли, бо множина зберігає лише унікальні значення та автоматично видаляє дублікати.",
   "metadata": {
    "id": "tFNc1e20fyny"
   }
  },
  {
   "cell_type": "markdown",
   "source": [
    "19. Створіть дві множини. Продемонстуйте над ними операції: обʼєднання, різниці, пересічі та симетричної різниці. Використовуйте методи, що не змінюють множини, а створюють нові."
   ],
   "metadata": {
    "id": "SRMkGizS1UwY"
   }
  },
  {
   "cell_type": "code",
   "source": [
    "set_a = {1, 2, 3, 4}\n",
    "set_b = {3, 4, 5, 6}\n",
    "union_set = set_a.union(set_b)\n",
    "print(union_set)\n",
    "difference_set = set_a.difference(set_b)\n",
    "print(difference_set)\n",
    "intersection_set = set_a.intersection(set_b)\n",
    "print(intersection_set)\n",
    "sym_diff_set = set_a.symmetric_difference(set_b)\n",
    "print(sym_diff_set)"
   ],
   "metadata": {
    "id": "h0T-VuDnf3Ri",
    "ExecuteTime": {
     "end_time": "2025-04-19T15:13:43.056986Z",
     "start_time": "2025-04-19T15:13:43.038976Z"
    }
   },
   "outputs": [
    {
     "name": "stdout",
     "output_type": "stream",
     "text": [
      "{1, 2, 3, 4, 5, 6}\n",
      "{1, 2}\n",
      "{3, 4}\n",
      "{1, 2, 5, 6}\n"
     ]
    }
   ],
   "execution_count": 5
  },
  {
   "cell_type": "markdown",
   "source": [
    "# VII. Словники (Dictionary)."
   ],
   "metadata": {
    "id": "kWc8gkzTx7Ea"
   }
  },
  {
   "cell_type": "markdown",
   "source": [
    "20. Створіть пустий словник. До нього додайте чотири пари елементів такі, щоб їхні ключі були різних типів. Чи може список бути ключем? Чому?"
   ],
   "metadata": {
    "id": "i5FLwj-B2ybQ"
   }
  },
  {
   "cell_type": "code",
   "source": [
    "my_dict = {}\n",
    "my_dict[\"ключ_рядок\"] = \"значення1\"\n",
    "my_dict[10] = \"значення2\"\n",
    "my_dict[(1, 2)] = \"значення3\"\n",
    "my_dict[3.14] = \"значення4\"\n",
    "print( my_dict)"
   ],
   "metadata": {
    "id": "hxgv3BzrgLAV",
    "ExecuteTime": {
     "end_time": "2025-04-19T15:14:00.629188Z",
     "start_time": "2025-04-19T15:14:00.615372Z"
    }
   },
   "outputs": [
    {
     "name": "stdout",
     "output_type": "stream",
     "text": [
      "{'ключ_рядок': 'значення1', 10: 'значення2', (1, 2): 'значення3', 3.14: 'значення4'}\n"
     ]
    }
   ],
   "execution_count": 6
  },
  {
   "cell_type": "markdown",
   "source": "Ні, список не може бути ключем у словнику, бо він є змінним типом даних. Ключі в словнику повинні бути незмінними",
   "metadata": {
    "id": "zwa7UVN-gR3m"
   }
  },
  {
   "cell_type": "markdown",
   "source": [
    "21. Створіть словник, де значенням в одній з пар теж буде словник, який теж має вкладений словник. Виведіть на екран значення, що міститься в словнику, що знаходиться на найнижчому рівні ієрархії вкладеності (найбільш внутрішній)."
   ],
   "metadata": {
    "id": "WM_pMlJsgoNf"
   }
  },
  {
   "cell_type": "code",
   "source": [
    "nested_dict = {\n",
    "    \"level1\": {\n",
    "        \"level2\": {\n",
    "            \"level3\": \"Це значення на найнижчому рівні\"\n",
    "        }\n",
    "    }\n",
    "}\n",
    "value = nested_dict[\"level1\"][\"level2\"][\"level3\"]\n",
    "print(value)"
   ],
   "metadata": {
    "id": "60dlP7IHhAy4",
    "ExecuteTime": {
     "end_time": "2025-04-19T15:15:19.665176Z",
     "start_time": "2025-04-19T15:15:19.647816Z"
    }
   },
   "outputs": [
    {
     "name": "stdout",
     "output_type": "stream",
     "text": [
      "Це значення на найнижчому рівні\n"
     ]
    }
   ],
   "execution_count": 7
  },
  {
   "cell_type": "markdown",
   "source": [
    "# Вітаю! Ви велика(ий) молодець, що впоралась(вся). Похваліть себе та побалуйте чимось приємним. Я Вами пишаюся."
   ],
   "metadata": {
    "id": "xOZP0hkx6cCr"
   }
  }
 ]
}
